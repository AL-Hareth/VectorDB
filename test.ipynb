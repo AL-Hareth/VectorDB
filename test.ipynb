{
 "cells": [
  {
   "cell_type": "code",
   "execution_count": 53,
   "metadata": {},
   "outputs": [],
   "source": [
    "from vectordb_core import Database"
   ]
  },
  {
   "cell_type": "code",
   "execution_count": 54,
   "metadata": {},
   "outputs": [],
   "source": [
    "# Creatign a new Database\n",
    "db = Database(\"my_database\")"
   ]
  },
  {
   "cell_type": "code",
   "execution_count": 55,
   "metadata": {},
   "outputs": [],
   "source": [
    "# More like creating a Table in SQL databases\n",
    "db.create_vector(\"users\", [603, 401, 301, 235]) # Vector of users' ids\n",
    "db.create_vector(\"permissions\", [1, 0, 1, 0]) # Vector of each users permissions (1 is Admin)"
   ]
  },
  {
   "cell_type": "code",
   "execution_count": 56,
   "metadata": {},
   "outputs": [],
   "source": [
    "# Save these in variables as a <Vector> data type\n",
    "users_vector = db.get_vector(\"users\")\n",
    "permissions_vector = db.get_vector(\"permissions\")"
   ]
  },
  {
   "cell_type": "code",
   "execution_count": 57,
   "metadata": {},
   "outputs": [],
   "source": [
    "def get_admins(users, permissions):\n",
    "    # returns the admins (ids who correspond to 1 in the permissions vector)\n",
    "    return users.get_selected_values(permissions.show())"
   ]
  },
  {
   "cell_type": "code",
   "execution_count": 58,
   "metadata": {},
   "outputs": [
    {
     "name": "stdout",
     "output_type": "stream",
     "text": [
      "[401, 235]\n"
     ]
    }
   ],
   "source": [
    "print(get_admins(users_vector, permissions_vector))"
   ]
  },
  {
   "cell_type": "code",
   "execution_count": 59,
   "metadata": {},
   "outputs": [],
   "source": [
    "def create_user(new_user_id):\n",
    "    # Adds an item (user id) to the users vector\n",
    "    users_vector.add_value(new_user_id)\n",
    "    # Adds permission (0) as default value for this new user\n",
    "    permissions_vector.add_value(0)"
   ]
  },
  {
   "cell_type": "code",
   "execution_count": 60,
   "metadata": {},
   "outputs": [],
   "source": [
    "create_user(750)"
   ]
  },
  {
   "cell_type": "code",
   "execution_count": 61,
   "metadata": {},
   "outputs": [
    {
     "name": "stdout",
     "output_type": "stream",
     "text": [
      "[603 401 301 235 750]\n",
      "[1 0 1 0 0]\n"
     ]
    }
   ],
   "source": [
    "# Print the contents of each Vector\n",
    "print(users_vector.show())\n",
    "print(permissions_vector.show())\n",
    "# As you see, a new user is added with id 750 and permission 0"
   ]
  },
  {
   "cell_type": "code",
   "execution_count": 62,
   "metadata": {},
   "outputs": [],
   "source": [
    "# Create relation between two vectors in a database\n",
    "db.create_relation(users_vector, permissions_vector)"
   ]
  },
  {
   "cell_type": "code",
   "execution_count": 63,
   "metadata": {},
   "outputs": [
    {
     "name": "stdout",
     "output_type": "stream",
     "text": [
      "Users Relation with permissions\n",
      "Permissions Relation with users\n"
     ]
    }
   ],
   "source": [
    "# Print the relation of each Vector\n",
    "print(\"Users Relation with \" + db.get_relation_of_vector(users_vector))\n",
    "print(\"Permissions Relation with \" + db.get_relation_of_vector(permissions_vector))"
   ]
  },
  {
   "cell_type": "code",
   "execution_count": 64,
   "metadata": {},
   "outputs": [
    {
     "name": "stdout",
     "output_type": "stream",
     "text": [
      "dict_keys(['permissions'])\n"
     ]
    }
   ],
   "source": [
    "# Drops the users Vector (similar to drop table in SQL)\n",
    "db.drop_vector('users')\n",
    "print(db.get_vectors())"
   ]
  }
 ],
 "metadata": {
  "kernelspec": {
   "display_name": "Python 3",
   "language": "python",
   "name": "python3"
  },
  "language_info": {
   "codemirror_mode": {
    "name": "ipython",
    "version": 3
   },
   "file_extension": ".py",
   "mimetype": "text/x-python",
   "name": "python",
   "nbconvert_exporter": "python",
   "pygments_lexer": "ipython3",
   "version": "3.10.10"
  },
  "orig_nbformat": 4
 },
 "nbformat": 4,
 "nbformat_minor": 2
}
